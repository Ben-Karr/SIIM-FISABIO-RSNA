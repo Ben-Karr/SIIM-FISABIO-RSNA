{
 "cells": [
  {
   "cell_type": "markdown",
   "metadata": {},
   "source": [
    "## Setup libraries"
   ]
  },
  {
   "cell_type": "code",
   "execution_count": 1,
   "metadata": {},
   "outputs": [],
   "source": [
    "%load_ext autoreload\n",
    "%autoreload 2"
   ]
  },
  {
   "cell_type": "code",
   "execution_count": 2,
   "metadata": {},
   "outputs": [],
   "source": [
    "from PIL import Image, ImageDraw\n",
    "\n",
    "from fastai.medical.imaging import get_dicom_files\n",
    "from dicom_utils.dicom_utils import process_dcm\n",
    "\n",
    "from math import ceil\n",
    "from pathlib import Path\n",
    "import pandas as pd\n",
    "import numpy as np"
   ]
  },
  {
   "cell_type": "code",
   "execution_count": 3,
   "metadata": {},
   "outputs": [],
   "source": [
    "import warnings\n",
    "warnings.filterwarnings(\"ignore\", category = DeprecationWarning)"
   ]
  },
  {
   "cell_type": "markdown",
   "metadata": {},
   "source": [
    "### Set parameters:"
   ]
  },
  {
   "cell_type": "code",
   "execution_count": 4,
   "metadata": {},
   "outputs": [],
   "source": [
    "BACKUP = True ## Backup dataframe after image resize\n",
    "new_width = 1024"
   ]
  },
  {
   "cell_type": "markdown",
   "metadata": {},
   "source": [
    "## Get data"
   ]
  },
  {
   "cell_type": "code",
   "execution_count": 6,
   "metadata": {},
   "outputs": [],
   "source": [
    "path = Path('/media/veracrypt1/Data Science/SIIM-Imgs')\n",
    "\n",
    "in_path = path / 'dicom'\n",
    "out_path = path / 'png_1024wFrame'"
   ]
  },
  {
   "cell_type": "markdown",
   "metadata": {},
   "source": [
    "Get lists of `.dicom` files"
   ]
  },
  {
   "cell_type": "code",
   "execution_count": 7,
   "metadata": {},
   "outputs": [],
   "source": [
    "dicom_train = get_dicom_files(in_path / 'train')\n",
    "dicom_test = get_dicom_files(in_path / 'test')"
   ]
  },
  {
   "cell_type": "markdown",
   "metadata": {},
   "source": [
    "Number of `.dicom` files"
   ]
  },
  {
   "cell_type": "code",
   "execution_count": 8,
   "metadata": {},
   "outputs": [
    {
     "name": "stdout",
     "output_type": "stream",
     "text": [
      "Train: 6334, Test: 1263\n"
     ]
    }
   ],
   "source": [
    "print(f'Train: {len(dicom_train)}, Test: {len(dicom_test)}')"
   ]
  },
  {
   "cell_type": "markdown",
   "metadata": {},
   "source": [
    "Load prepared dataframe for train set"
   ]
  },
  {
   "cell_type": "code",
   "execution_count": 9,
   "metadata": {
    "scrolled": true
   },
   "outputs": [
    {
     "data": {
      "text/html": [
       "<div>\n",
       "<style scoped>\n",
       "    .dataframe tbody tr th:only-of-type {\n",
       "        vertical-align: middle;\n",
       "    }\n",
       "\n",
       "    .dataframe tbody tr th {\n",
       "        vertical-align: top;\n",
       "    }\n",
       "\n",
       "    .dataframe thead th {\n",
       "        text-align: right;\n",
       "    }\n",
       "</style>\n",
       "<table border=\"1\" class=\"dataframe\">\n",
       "  <thead>\n",
       "    <tr style=\"text-align: right;\">\n",
       "      <th></th>\n",
       "      <th>id</th>\n",
       "      <th>StudyInstanceUID</th>\n",
       "      <th>Negative for Pneumonia</th>\n",
       "      <th>Typical Appearance</th>\n",
       "      <th>Indeterminate Appearance</th>\n",
       "      <th>Atypical Appearance</th>\n",
       "      <th>boxes_list</th>\n",
       "      <th>labels_list</th>\n",
       "      <th>label</th>\n",
       "      <th>orig_width</th>\n",
       "      <th>orig_height</th>\n",
       "    </tr>\n",
       "  </thead>\n",
       "  <tbody>\n",
       "    <tr>\n",
       "      <th>0</th>\n",
       "      <td>000a312787f2</td>\n",
       "      <td>5776db0cec75</td>\n",
       "      <td>0</td>\n",
       "      <td>1</td>\n",
       "      <td>0</td>\n",
       "      <td>0</td>\n",
       "      <td>[[789.28836, 582.43035, 1815.94498, 2499.73327], [2245.91208, 591.20528, 3340.5737, 2352.75472]]</td>\n",
       "      <td>[Typical, Typical]</td>\n",
       "      <td>Typical</td>\n",
       "      <td>4256</td>\n",
       "      <td>3488</td>\n",
       "    </tr>\n",
       "    <tr>\n",
       "      <th>1</th>\n",
       "      <td>000c3a3f293f</td>\n",
       "      <td>ff0879eb20ed</td>\n",
       "      <td>1</td>\n",
       "      <td>0</td>\n",
       "      <td>0</td>\n",
       "      <td>0</td>\n",
       "      <td>[[0.0, 0.0, 1.0, 1.0]]</td>\n",
       "      <td>[Negative]</td>\n",
       "      <td>Negative</td>\n",
       "      <td>2832</td>\n",
       "      <td>2320</td>\n",
       "    </tr>\n",
       "  </tbody>\n",
       "</table>\n",
       "</div>"
      ],
      "text/plain": [
       "             id StudyInstanceUID  Negative for Pneumonia  Typical Appearance  \\\n",
       "0  000a312787f2     5776db0cec75                       0                   1   \n",
       "1  000c3a3f293f     ff0879eb20ed                       1                   0   \n",
       "\n",
       "   Indeterminate Appearance  Atypical Appearance  \\\n",
       "0                         0                    0   \n",
       "1                         0                    0   \n",
       "\n",
       "                                                                                         boxes_list  \\\n",
       "0  [[789.28836, 582.43035, 1815.94498, 2499.73327], [2245.91208, 591.20528, 3340.5737, 2352.75472]]   \n",
       "1                                                                            [[0.0, 0.0, 1.0, 1.0]]   \n",
       "\n",
       "          labels_list     label  orig_width  orig_height  \n",
       "0  [Typical, Typical]   Typical        4256         3488  \n",
       "1          [Negative]  Negative        2832         2320  "
      ]
     },
     "execution_count": 9,
     "metadata": {},
     "output_type": "execute_result"
    }
   ],
   "source": [
    "df_train = pd.read_pickle('src/' + 'train_clean.pkl')\n",
    "df_train.head(2)"
   ]
  },
  {
   "cell_type": "markdown",
   "metadata": {},
   "source": [
    "Remove broken images"
   ]
  },
  {
   "cell_type": "code",
   "execution_count": 10,
   "metadata": {},
   "outputs": [],
   "source": [
    "rmv_ids = ['3d12cb6aad8b']\n",
    "df_train = df_train[~df_train['id'].isin(rmv_ids)]"
   ]
  },
  {
   "cell_type": "markdown",
   "metadata": {
    "scrolled": false
   },
   "source": [
    "Create a test dataframe to hold image sizes"
   ]
  },
  {
   "cell_type": "code",
   "execution_count": 11,
   "metadata": {},
   "outputs": [],
   "source": [
    "df_test = pd.DataFrame({'id': [fn.name[:-4] for fn in dicom_test]})"
   ]
  },
  {
   "cell_type": "code",
   "execution_count": 12,
   "metadata": {
    "scrolled": true
   },
   "outputs": [
    {
     "data": {
      "text/html": [
       "<div>\n",
       "<style scoped>\n",
       "    .dataframe tbody tr th:only-of-type {\n",
       "        vertical-align: middle;\n",
       "    }\n",
       "\n",
       "    .dataframe tbody tr th {\n",
       "        vertical-align: top;\n",
       "    }\n",
       "\n",
       "    .dataframe thead th {\n",
       "        text-align: right;\n",
       "    }\n",
       "</style>\n",
       "<table border=\"1\" class=\"dataframe\">\n",
       "  <thead>\n",
       "    <tr style=\"text-align: right;\">\n",
       "      <th></th>\n",
       "      <th>id</th>\n",
       "    </tr>\n",
       "  </thead>\n",
       "  <tbody>\n",
       "    <tr>\n",
       "      <th>0</th>\n",
       "      <td>9603112b4c2e</td>\n",
       "    </tr>\n",
       "    <tr>\n",
       "      <th>1</th>\n",
       "      <td>3dcdfc352a06</td>\n",
       "    </tr>\n",
       "    <tr>\n",
       "      <th>2</th>\n",
       "      <td>c39146cbda47</td>\n",
       "    </tr>\n",
       "    <tr>\n",
       "      <th>3</th>\n",
       "      <td>951211f8e1bb</td>\n",
       "    </tr>\n",
       "    <tr>\n",
       "      <th>4</th>\n",
       "      <td>5e0e7acd9c7d</td>\n",
       "    </tr>\n",
       "  </tbody>\n",
       "</table>\n",
       "</div>"
      ],
      "text/plain": [
       "             id\n",
       "0  9603112b4c2e\n",
       "1  3dcdfc352a06\n",
       "2  c39146cbda47\n",
       "3  951211f8e1bb\n",
       "4  5e0e7acd9c7d"
      ]
     },
     "execution_count": 12,
     "metadata": {},
     "output_type": "execute_result"
    }
   ],
   "source": [
    "df_test.head()"
   ]
  },
  {
   "cell_type": "markdown",
   "metadata": {},
   "source": [
    "# Process and resize images\n",
    "* Get .dcm from filename\n",
    "* Process .dcm:\n",
    "    * Get pixel array\n",
    "    * Fix monochrome (if necessary)\n",
    "    * \"Flatten\" outlying values (if x > bound, x = bound)\n",
    "    * ~Cut black / white boarders~\n",
    "    * ~Save cut points to df (to translate the bounding boxes)~\n",
    "    * Save new width / height to df\n",
    "    * Normalize ~(truncated)~ array\n",
    "* Save array as .png"
   ]
  },
  {
   "cell_type": "code",
   "execution_count": 13,
   "metadata": {},
   "outputs": [],
   "source": [
    "def init_df_cols(df):\n",
    "    zs = np.zeros(df.shape[0], dtype = 'object')\n",
    "    df['orig_width'] = zs\n",
    "    df['orig_height'] = zs"
   ]
  },
  {
   "cell_type": "code",
   "execution_count": 14,
   "metadata": {
    "scrolled": true
   },
   "outputs": [],
   "source": [
    "def process_fns(fns, df, new_width = 1024):\n",
    "    m = len(fns)\n",
    "    bins = np.load('data/freqhist_bins.npy')\n",
    "    for i, fn in enumerate(fns):\n",
    "        # Prepare filename to save to\n",
    "        new_fn = out_path / Path(*fn.parts[6:]).with_suffix('.png')\n",
    "        new_fn.parent.mkdir(exist_ok=True, parents = True)\n",
    "        if new_fn.exists():\n",
    "            print('file already exists, skip item')\n",
    "            continue\n",
    "        try:\n",
    "            idx = df[df.id == fn.stem].index.item()\n",
    "        except:\n",
    "            continue\n",
    "        dcm = fn.dcmread()        \n",
    "        #arr, tl, br = process_dcm(dcm, bins = bins)\n",
    "        arr = process_dcm(dcm, bins = bins)\n",
    "        \n",
    "        img = Image.fromarray((arr * 255).astype(np.uint8))\n",
    "        scalar = new_width / img.size[0]\n",
    "        resized_img = img.resize((new_width, ceil(img.size[1] * scalar)), resample = Image.LANCZOS)  \n",
    "        \n",
    "        # Save original image size to scale the bounding boxes\n",
    "        df.loc[df.id == fn.stem, 'orig_width'] = dcm.Columns\n",
    "        df.loc[df.id == fn.stem, 'orig_height'] = dcm.Rows\n",
    "\n",
    "        resized_img.save(new_fn)\n",
    "        \n",
    "        print(f'{(i / (m-1) * 100):5.2f}%', end='\\r')"
   ]
  },
  {
   "cell_type": "markdown",
   "metadata": {},
   "source": [
    "Initialize dataframes"
   ]
  },
  {
   "cell_type": "code",
   "execution_count": 15,
   "metadata": {},
   "outputs": [],
   "source": [
    "init_df_cols(df_train)\n",
    "init_df_cols(df_test)"
   ]
  },
  {
   "cell_type": "markdown",
   "metadata": {},
   "source": [
    "## Process train images"
   ]
  },
  {
   "cell_type": "code",
   "execution_count": 22,
   "metadata": {
    "scrolled": true
   },
   "outputs": [
    {
     "name": "stdout",
     "output_type": "stream",
     "text": [
      "100%\n"
     ]
    }
   ],
   "source": [
    "process_fns(dicom_train, df_train, new_width = new_width)"
   ]
  },
  {
   "cell_type": "code",
   "execution_count": 17,
   "metadata": {},
   "outputs": [],
   "source": [
    "if BACKUP: \n",
    "    df_train.to_pickle(f'src/train_ready_{str(new_width)}_backup.pkl')"
   ]
  },
  {
   "cell_type": "code",
   "execution_count": 18,
   "metadata": {},
   "outputs": [
    {
     "data": {
      "text/html": [
       "<div>\n",
       "<style scoped>\n",
       "    .dataframe tbody tr th:only-of-type {\n",
       "        vertical-align: middle;\n",
       "    }\n",
       "\n",
       "    .dataframe tbody tr th {\n",
       "        vertical-align: top;\n",
       "    }\n",
       "\n",
       "    .dataframe thead th {\n",
       "        text-align: right;\n",
       "    }\n",
       "</style>\n",
       "<table border=\"1\" class=\"dataframe\">\n",
       "  <thead>\n",
       "    <tr style=\"text-align: right;\">\n",
       "      <th></th>\n",
       "      <th>id</th>\n",
       "      <th>StudyInstanceUID</th>\n",
       "      <th>Negative for Pneumonia</th>\n",
       "      <th>Typical Appearance</th>\n",
       "      <th>Indeterminate Appearance</th>\n",
       "      <th>Atypical Appearance</th>\n",
       "      <th>boxes_list</th>\n",
       "      <th>labels_list</th>\n",
       "      <th>label</th>\n",
       "      <th>orig_width</th>\n",
       "      <th>orig_height</th>\n",
       "    </tr>\n",
       "  </thead>\n",
       "  <tbody>\n",
       "    <tr>\n",
       "      <th>0</th>\n",
       "      <td>000a312787f2</td>\n",
       "      <td>5776db0cec75</td>\n",
       "      <td>0</td>\n",
       "      <td>1</td>\n",
       "      <td>0</td>\n",
       "      <td>0</td>\n",
       "      <td>[[789.28836, 582.43035, 1815.94498, 2499.73327], [2245.91208, 591.20528, 3340.5737, 2352.75472]]</td>\n",
       "      <td>[Typical, Typical]</td>\n",
       "      <td>Typical</td>\n",
       "      <td>0</td>\n",
       "      <td>0</td>\n",
       "    </tr>\n",
       "    <tr>\n",
       "      <th>1</th>\n",
       "      <td>000c3a3f293f</td>\n",
       "      <td>ff0879eb20ed</td>\n",
       "      <td>1</td>\n",
       "      <td>0</td>\n",
       "      <td>0</td>\n",
       "      <td>0</td>\n",
       "      <td>[[0.0, 0.0, 1.0, 1.0]]</td>\n",
       "      <td>[Negative]</td>\n",
       "      <td>Negative</td>\n",
       "      <td>0</td>\n",
       "      <td>0</td>\n",
       "    </tr>\n",
       "  </tbody>\n",
       "</table>\n",
       "</div>"
      ],
      "text/plain": [
       "             id StudyInstanceUID  Negative for Pneumonia  Typical Appearance  \\\n",
       "0  000a312787f2     5776db0cec75                       0                   1   \n",
       "1  000c3a3f293f     ff0879eb20ed                       1                   0   \n",
       "\n",
       "   Indeterminate Appearance  Atypical Appearance  \\\n",
       "0                         0                    0   \n",
       "1                         0                    0   \n",
       "\n",
       "                                                                                         boxes_list  \\\n",
       "0  [[789.28836, 582.43035, 1815.94498, 2499.73327], [2245.91208, 591.20528, 3340.5737, 2352.75472]]   \n",
       "1                                                                            [[0.0, 0.0, 1.0, 1.0]]   \n",
       "\n",
       "          labels_list     label orig_width orig_height  \n",
       "0  [Typical, Typical]   Typical          0           0  \n",
       "1          [Negative]  Negative          0           0  "
      ]
     },
     "execution_count": 18,
     "metadata": {},
     "output_type": "execute_result"
    }
   ],
   "source": [
    "df_train.head(2)"
   ]
  },
  {
   "cell_type": "markdown",
   "metadata": {},
   "source": [
    "## Process test images"
   ]
  },
  {
   "cell_type": "code",
   "execution_count": 19,
   "metadata": {},
   "outputs": [],
   "source": [
    "process_fns(dicom_test, df_test, new_width = new_width)"
   ]
  },
  {
   "cell_type": "code",
   "execution_count": 20,
   "metadata": {},
   "outputs": [
    {
     "data": {
      "text/html": [
       "<div>\n",
       "<style scoped>\n",
       "    .dataframe tbody tr th:only-of-type {\n",
       "        vertical-align: middle;\n",
       "    }\n",
       "\n",
       "    .dataframe tbody tr th {\n",
       "        vertical-align: top;\n",
       "    }\n",
       "\n",
       "    .dataframe thead th {\n",
       "        text-align: right;\n",
       "    }\n",
       "</style>\n",
       "<table border=\"1\" class=\"dataframe\">\n",
       "  <thead>\n",
       "    <tr style=\"text-align: right;\">\n",
       "      <th></th>\n",
       "      <th>id</th>\n",
       "    </tr>\n",
       "  </thead>\n",
       "  <tbody>\n",
       "    <tr>\n",
       "      <th>1261</th>\n",
       "      <td>fb073252b364</td>\n",
       "    </tr>\n",
       "    <tr>\n",
       "      <th>1262</th>\n",
       "      <td>82589da89e95</td>\n",
       "    </tr>\n",
       "  </tbody>\n",
       "</table>\n",
       "</div>"
      ],
      "text/plain": [
       "                id\n",
       "1261  fb073252b364\n",
       "1262  82589da89e95"
      ]
     },
     "execution_count": 20,
     "metadata": {},
     "output_type": "execute_result"
    }
   ],
   "source": [
    "df_test.tail(2)"
   ]
  },
  {
   "cell_type": "markdown",
   "metadata": {},
   "source": [
    "## Save the dataframes"
   ]
  },
  {
   "cell_type": "code",
   "execution_count": 21,
   "metadata": {},
   "outputs": [],
   "source": [
    "df_train.to_pickle(f'src/train_ready_{str(new_width)}_wFrame.pkl')\n",
    "df_test.to_csv(f'src/test_ready_{str(new_width)}_wFrame.csv')"
   ]
  }
 ],
 "metadata": {
  "kernelspec": {
   "display_name": "fastai",
   "language": "python",
   "name": "fastai"
  },
  "language_info": {
   "codemirror_mode": {
    "name": "ipython",
    "version": 3
   },
   "file_extension": ".py",
   "mimetype": "text/x-python",
   "name": "python",
   "nbconvert_exporter": "python",
   "pygments_lexer": "ipython3",
   "version": "3.8.8"
  }
 },
 "nbformat": 4,
 "nbformat_minor": 4
}
