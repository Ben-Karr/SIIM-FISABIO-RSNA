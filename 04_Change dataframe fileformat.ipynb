{
 "cells": [
  {
   "cell_type": "code",
   "execution_count": 14,
   "id": "10bfc0fc",
   "metadata": {},
   "outputs": [],
   "source": [
    "import pandas as pd\n",
    "import pickle\n",
    "import numpy as np"
   ]
  },
  {
   "cell_type": "code",
   "execution_count": 2,
   "id": "87c89f37",
   "metadata": {},
   "outputs": [],
   "source": [
    "df = pd.read_pickle('src/train_ready_512_wFrame.pkl')"
   ]
  },
  {
   "cell_type": "code",
   "execution_count": 11,
   "id": "5792f49b",
   "metadata": {},
   "outputs": [],
   "source": [
    "boxes_list = df.pop('boxes_list')\n",
    "resized_boxes = df.pop('resized_boxes')"
   ]
  },
  {
   "cell_type": "code",
   "execution_count": 20,
   "id": "480092d0",
   "metadata": {},
   "outputs": [],
   "source": [
    "df['new_width'] = df.new_size.apply(lambda x: x[0])\n",
    "df['new_height'] = df.new_size.apply(lambda x: x[1])"
   ]
  },
  {
   "cell_type": "code",
   "execution_count": 16,
   "id": "cd8b66ad",
   "metadata": {},
   "outputs": [],
   "source": [
    "boxes_list = np.array(boxes_list)\n",
    "resized_boxes = np.array(resized_boxes)"
   ]
  },
  {
   "cell_type": "code",
   "execution_count": 17,
   "id": "4ce9ab4a",
   "metadata": {},
   "outputs": [],
   "source": [
    "np.save('src/boxes_list.npy', boxes_list)\n",
    "np.save('src/resized_boxes.npy', resized_boxes)"
   ]
  },
  {
   "cell_type": "code",
   "execution_count": 21,
   "id": "fb447a1c",
   "metadata": {},
   "outputs": [
    {
     "data": {
      "text/html": [
       "<div>\n",
       "<style scoped>\n",
       "    .dataframe tbody tr th:only-of-type {\n",
       "        vertical-align: middle;\n",
       "    }\n",
       "\n",
       "    .dataframe tbody tr th {\n",
       "        vertical-align: top;\n",
       "    }\n",
       "\n",
       "    .dataframe thead th {\n",
       "        text-align: right;\n",
       "    }\n",
       "</style>\n",
       "<table border=\"1\" class=\"dataframe\">\n",
       "  <thead>\n",
       "    <tr style=\"text-align: right;\">\n",
       "      <th></th>\n",
       "      <th>index</th>\n",
       "      <th>id</th>\n",
       "      <th>StudyInstanceUID</th>\n",
       "      <th>Negative for Pneumonia</th>\n",
       "      <th>Typical Appearance</th>\n",
       "      <th>Indeterminate Appearance</th>\n",
       "      <th>Atypical Appearance</th>\n",
       "      <th>labels_list</th>\n",
       "      <th>label</th>\n",
       "      <th>orig_size</th>\n",
       "      <th>cut_size</th>\n",
       "      <th>new_size</th>\n",
       "      <th>scalar</th>\n",
       "      <th>new_width</th>\n",
       "      <th>new_height</th>\n",
       "    </tr>\n",
       "  </thead>\n",
       "  <tbody>\n",
       "    <tr>\n",
       "      <th>0</th>\n",
       "      <td>0</td>\n",
       "      <td>000a312787f2</td>\n",
       "      <td>5776db0cec75</td>\n",
       "      <td>0</td>\n",
       "      <td>1</td>\n",
       "      <td>0</td>\n",
       "      <td>0</td>\n",
       "      <td>[Typical, Typical]</td>\n",
       "      <td>Typical</td>\n",
       "      <td>(4256, 3488)</td>\n",
       "      <td>(4256, 3488)</td>\n",
       "      <td>(512, 419)</td>\n",
       "      <td>0.120301</td>\n",
       "      <td>512</td>\n",
       "      <td>419</td>\n",
       "    </tr>\n",
       "    <tr>\n",
       "      <th>1</th>\n",
       "      <td>1</td>\n",
       "      <td>000c3a3f293f</td>\n",
       "      <td>ff0879eb20ed</td>\n",
       "      <td>1</td>\n",
       "      <td>0</td>\n",
       "      <td>0</td>\n",
       "      <td>0</td>\n",
       "      <td>[Negative]</td>\n",
       "      <td>Negative</td>\n",
       "      <td>(2832, 2320)</td>\n",
       "      <td>(2832, 2320)</td>\n",
       "      <td>(512, 419)</td>\n",
       "      <td>NaN</td>\n",
       "      <td>512</td>\n",
       "      <td>419</td>\n",
       "    </tr>\n",
       "    <tr>\n",
       "      <th>2</th>\n",
       "      <td>2</td>\n",
       "      <td>0012ff7358bc</td>\n",
       "      <td>9d514ce429a7</td>\n",
       "      <td>0</td>\n",
       "      <td>1</td>\n",
       "      <td>0</td>\n",
       "      <td>0</td>\n",
       "      <td>[Typical, Typical]</td>\n",
       "      <td>Typical</td>\n",
       "      <td>(3056, 2544)</td>\n",
       "      <td>(3056, 2544)</td>\n",
       "      <td>(512, 426)</td>\n",
       "      <td>0.167539</td>\n",
       "      <td>512</td>\n",
       "      <td>426</td>\n",
       "    </tr>\n",
       "    <tr>\n",
       "      <th>3</th>\n",
       "      <td>3</td>\n",
       "      <td>001398f4ff4f</td>\n",
       "      <td>28dddc8559b2</td>\n",
       "      <td>0</td>\n",
       "      <td>0</td>\n",
       "      <td>0</td>\n",
       "      <td>1</td>\n",
       "      <td>[Atypical]</td>\n",
       "      <td>Atypical</td>\n",
       "      <td>(4280, 3520)</td>\n",
       "      <td>(4280, 3520)</td>\n",
       "      <td>(512, 421)</td>\n",
       "      <td>0.119626</td>\n",
       "      <td>512</td>\n",
       "      <td>421</td>\n",
       "    </tr>\n",
       "    <tr>\n",
       "      <th>4</th>\n",
       "      <td>4</td>\n",
       "      <td>001bd15d1891</td>\n",
       "      <td>dfd9fdd85a3e</td>\n",
       "      <td>0</td>\n",
       "      <td>1</td>\n",
       "      <td>0</td>\n",
       "      <td>0</td>\n",
       "      <td>[Typical, Typical]</td>\n",
       "      <td>Typical</td>\n",
       "      <td>(3408, 2800)</td>\n",
       "      <td>(3408, 2800)</td>\n",
       "      <td>(512, 420)</td>\n",
       "      <td>0.150235</td>\n",
       "      <td>512</td>\n",
       "      <td>420</td>\n",
       "    </tr>\n",
       "  </tbody>\n",
       "</table>\n",
       "</div>"
      ],
      "text/plain": [
       "   index            id StudyInstanceUID  Negative for Pneumonia  \\\n",
       "0      0  000a312787f2     5776db0cec75                       0   \n",
       "1      1  000c3a3f293f     ff0879eb20ed                       1   \n",
       "2      2  0012ff7358bc     9d514ce429a7                       0   \n",
       "3      3  001398f4ff4f     28dddc8559b2                       0   \n",
       "4      4  001bd15d1891     dfd9fdd85a3e                       0   \n",
       "\n",
       "   Typical Appearance  Indeterminate Appearance  Atypical Appearance  \\\n",
       "0                   1                         0                    0   \n",
       "1                   0                         0                    0   \n",
       "2                   1                         0                    0   \n",
       "3                   0                         0                    1   \n",
       "4                   1                         0                    0   \n",
       "\n",
       "          labels_list     label     orig_size      cut_size    new_size  \\\n",
       "0  [Typical, Typical]   Typical  (4256, 3488)  (4256, 3488)  (512, 419)   \n",
       "1          [Negative]  Negative  (2832, 2320)  (2832, 2320)  (512, 419)   \n",
       "2  [Typical, Typical]   Typical  (3056, 2544)  (3056, 2544)  (512, 426)   \n",
       "3          [Atypical]  Atypical  (4280, 3520)  (4280, 3520)  (512, 421)   \n",
       "4  [Typical, Typical]   Typical  (3408, 2800)  (3408, 2800)  (512, 420)   \n",
       "\n",
       "     scalar  new_width  new_height  \n",
       "0  0.120301        512         419  \n",
       "1       NaN        512         419  \n",
       "2  0.167539        512         426  \n",
       "3  0.119626        512         421  \n",
       "4  0.150235        512         420  "
      ]
     },
     "execution_count": 21,
     "metadata": {},
     "output_type": "execute_result"
    }
   ],
   "source": [
    "df.head()"
   ]
  },
  {
   "cell_type": "code",
   "execution_count": 22,
   "id": "b3203e8f",
   "metadata": {},
   "outputs": [],
   "source": [
    "df.to_csv('src/train_ready_512_wFrame.csv')"
   ]
  },
  {
   "cell_type": "code",
   "execution_count": null,
   "id": "6cc4fecd",
   "metadata": {},
   "outputs": [],
   "source": []
  }
 ],
 "metadata": {
  "kernelspec": {
   "display_name": "fastai",
   "language": "python",
   "name": "fastai"
  },
  "language_info": {
   "codemirror_mode": {
    "name": "ipython",
    "version": 3
   },
   "file_extension": ".py",
   "mimetype": "text/x-python",
   "name": "python",
   "nbconvert_exporter": "python",
   "pygments_lexer": "ipython3",
   "version": "3.8.8"
  }
 },
 "nbformat": 4,
 "nbformat_minor": 5
}
