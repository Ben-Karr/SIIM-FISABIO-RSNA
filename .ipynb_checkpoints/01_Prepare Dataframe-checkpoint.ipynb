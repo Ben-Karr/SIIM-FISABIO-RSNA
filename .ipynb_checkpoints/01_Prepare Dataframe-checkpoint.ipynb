{
 "cells": [
  {
   "cell_type": "markdown",
   "metadata": {},
   "source": [
    "## Setup libraries"
   ]
  },
  {
   "cell_type": "code",
   "execution_count": 1,
   "metadata": {},
   "outputs": [],
   "source": [
    "import pandas as pd\n",
    "from pathlib import Path\n",
    "import re\n",
    "import numpy as np"
   ]
  },
  {
   "cell_type": "markdown",
   "metadata": {},
   "source": [
    "## Load DataFrames"
   ]
  },
  {
   "cell_type": "code",
   "execution_count": 2,
   "metadata": {
    "execution": {
     "iopub.execute_input": "2021-06-29T09:11:25.914732Z",
     "iopub.status.busy": "2021-06-29T09:11:25.914288Z",
     "iopub.status.idle": "2021-06-29T09:11:25.973184Z",
     "shell.execute_reply": "2021-06-29T09:11:25.972318Z",
     "shell.execute_reply.started": "2021-06-29T09:11:25.914686Z"
    }
   },
   "outputs": [],
   "source": [
    "path = Path(\"src\")\n",
    "\n",
    "df_img = pd.read_csv(path / 'train_image_level.csv')\n",
    "df_study = pd.read_csv(path / 'train_study_level.csv')"
   ]
  },
  {
   "cell_type": "markdown",
   "metadata": {},
   "source": [
    "Contents of the image dataframe:"
   ]
  },
  {
   "cell_type": "code",
   "execution_count": 4,
   "metadata": {
    "execution": {
     "iopub.execute_input": "2021-06-29T09:11:26.225991Z",
     "iopub.status.busy": "2021-06-29T09:11:26.225679Z",
     "iopub.status.idle": "2021-06-29T09:11:26.251293Z",
     "shell.execute_reply": "2021-06-29T09:11:26.250155Z",
     "shell.execute_reply.started": "2021-06-29T09:11:26.225962Z"
    }
   },
   "outputs": [
    {
     "data": {
      "text/html": [
       "<div>\n",
       "<style scoped>\n",
       "    .dataframe tbody tr th:only-of-type {\n",
       "        vertical-align: middle;\n",
       "    }\n",
       "\n",
       "    .dataframe tbody tr th {\n",
       "        vertical-align: top;\n",
       "    }\n",
       "\n",
       "    .dataframe thead th {\n",
       "        text-align: right;\n",
       "    }\n",
       "</style>\n",
       "<table border=\"1\" class=\"dataframe\">\n",
       "  <thead>\n",
       "    <tr style=\"text-align: right;\">\n",
       "      <th></th>\n",
       "      <th>id</th>\n",
       "      <th>boxes</th>\n",
       "      <th>label</th>\n",
       "      <th>StudyInstanceUID</th>\n",
       "    </tr>\n",
       "  </thead>\n",
       "  <tbody>\n",
       "    <tr>\n",
       "      <th>0</th>\n",
       "      <td>000a312787f2_image</td>\n",
       "      <td>[{'x': 789.28836, 'y': 582.43035, 'width': 102...</td>\n",
       "      <td>opacity 1 789.28836 582.43035 1815.94498 2499....</td>\n",
       "      <td>5776db0cec75</td>\n",
       "    </tr>\n",
       "    <tr>\n",
       "      <th>1</th>\n",
       "      <td>000c3a3f293f_image</td>\n",
       "      <td>NaN</td>\n",
       "      <td>none 1 0 0 1 1</td>\n",
       "      <td>ff0879eb20ed</td>\n",
       "    </tr>\n",
       "  </tbody>\n",
       "</table>\n",
       "</div>"
      ],
      "text/plain": [
       "                   id                                              boxes  \\\n",
       "0  000a312787f2_image  [{'x': 789.28836, 'y': 582.43035, 'width': 102...   \n",
       "1  000c3a3f293f_image                                                NaN   \n",
       "\n",
       "                                               label StudyInstanceUID  \n",
       "0  opacity 1 789.28836 582.43035 1815.94498 2499....     5776db0cec75  \n",
       "1                                     none 1 0 0 1 1     ff0879eb20ed  "
      ]
     },
     "execution_count": 4,
     "metadata": {},
     "output_type": "execute_result"
    }
   ],
   "source": [
    "df_img.head(2)"
   ]
  },
  {
   "cell_type": "markdown",
   "metadata": {},
   "source": [
    "The label column contains one string, as it is expected in the submission."
   ]
  },
  {
   "cell_type": "code",
   "execution_count": 5,
   "metadata": {},
   "outputs": [
    {
     "data": {
      "text/plain": [
       "'opacity 1 789.28836 582.43035 1815.94498 2499.73327 opacity 1 2245.91208 591.20528 3340.5737 2352.75472'"
      ]
     },
     "execution_count": 5,
     "metadata": {},
     "output_type": "execute_result"
    }
   ],
   "source": [
    "df_img.loc[0,'label']"
   ]
  },
  {
   "cell_type": "markdown",
   "metadata": {},
   "source": [
    "Contents of the study dataframe:"
   ]
  },
  {
   "cell_type": "code",
   "execution_count": 6,
   "metadata": {
    "execution": {
     "iopub.execute_input": "2021-06-29T09:11:26.722232Z",
     "iopub.status.busy": "2021-06-29T09:11:26.721926Z",
     "iopub.status.idle": "2021-06-29T09:11:26.731792Z",
     "shell.execute_reply": "2021-06-29T09:11:26.730787Z",
     "shell.execute_reply.started": "2021-06-29T09:11:26.722204Z"
    }
   },
   "outputs": [
    {
     "data": {
      "text/html": [
       "<div>\n",
       "<style scoped>\n",
       "    .dataframe tbody tr th:only-of-type {\n",
       "        vertical-align: middle;\n",
       "    }\n",
       "\n",
       "    .dataframe tbody tr th {\n",
       "        vertical-align: top;\n",
       "    }\n",
       "\n",
       "    .dataframe thead th {\n",
       "        text-align: right;\n",
       "    }\n",
       "</style>\n",
       "<table border=\"1\" class=\"dataframe\">\n",
       "  <thead>\n",
       "    <tr style=\"text-align: right;\">\n",
       "      <th></th>\n",
       "      <th>id</th>\n",
       "      <th>Negative for Pneumonia</th>\n",
       "      <th>Typical Appearance</th>\n",
       "      <th>Indeterminate Appearance</th>\n",
       "      <th>Atypical Appearance</th>\n",
       "    </tr>\n",
       "  </thead>\n",
       "  <tbody>\n",
       "    <tr>\n",
       "      <th>0</th>\n",
       "      <td>00086460a852_study</td>\n",
       "      <td>0</td>\n",
       "      <td>1</td>\n",
       "      <td>0</td>\n",
       "      <td>0</td>\n",
       "    </tr>\n",
       "    <tr>\n",
       "      <th>1</th>\n",
       "      <td>000c9c05fd14_study</td>\n",
       "      <td>0</td>\n",
       "      <td>0</td>\n",
       "      <td>0</td>\n",
       "      <td>1</td>\n",
       "    </tr>\n",
       "  </tbody>\n",
       "</table>\n",
       "</div>"
      ],
      "text/plain": [
       "                   id  Negative for Pneumonia  Typical Appearance  \\\n",
       "0  00086460a852_study                       0                   1   \n",
       "1  000c9c05fd14_study                       0                   0   \n",
       "\n",
       "   Indeterminate Appearance  Atypical Appearance  \n",
       "0                         0                    0  \n",
       "1                         0                    1  "
      ]
     },
     "execution_count": 6,
     "metadata": {},
     "output_type": "execute_result"
    }
   ],
   "source": [
    "df_study.head(2)"
   ]
  },
  {
   "cell_type": "markdown",
   "metadata": {},
   "source": [
    "Prepare the `id` column for the later join with the image dataframe."
   ]
  },
  {
   "cell_type": "code",
   "execution_count": 7,
   "metadata": {
    "execution": {
     "iopub.execute_input": "2021-06-29T09:11:27.133379Z",
     "iopub.status.busy": "2021-06-29T09:11:27.13309Z",
     "iopub.status.idle": "2021-06-29T09:11:27.146576Z",
     "shell.execute_reply": "2021-06-29T09:11:27.145708Z",
     "shell.execute_reply.started": "2021-06-29T09:11:27.13335Z"
    }
   },
   "outputs": [],
   "source": [
    "df_study['id'] = df_study.id.str.replace('_study', '')\n",
    "df_study.rename(columns = {'id': 'StudyInstanceUID'}, inplace = True)"
   ]
  },
  {
   "cell_type": "markdown",
   "metadata": {},
   "source": [
    "Some studies contain more than one image."
   ]
  },
  {
   "cell_type": "code",
   "execution_count": 8,
   "metadata": {
    "execution": {
     "iopub.execute_input": "2021-06-29T09:11:27.484432Z",
     "iopub.status.busy": "2021-06-29T09:11:27.484182Z",
     "iopub.status.idle": "2021-06-29T09:11:27.495253Z",
     "shell.execute_reply": "2021-06-29T09:11:27.494252Z",
     "shell.execute_reply.started": "2021-06-29T09:11:27.484407Z"
    }
   },
   "outputs": [
    {
     "data": {
      "text/plain": [
       "(True, False)"
      ]
     },
     "execution_count": 8,
     "metadata": {},
     "output_type": "execute_result"
    }
   ],
   "source": [
    "study_ids = df_img['StudyInstanceUID'].unique()\n",
    "img_ids = df_study['StudyInstanceUID'].unique()\n",
    "\n",
    "set(study_ids) == set(img_ids), df_img.shape[0] == df_study.shape[0]"
   ]
  },
  {
   "cell_type": "code",
   "execution_count": 9,
   "metadata": {
    "execution": {
     "iopub.execute_input": "2021-06-29T09:11:27.751474Z",
     "iopub.status.busy": "2021-06-29T09:11:27.7512Z",
     "iopub.status.idle": "2021-06-29T09:11:27.757829Z",
     "shell.execute_reply": "2021-06-29T09:11:27.755925Z",
     "shell.execute_reply.started": "2021-06-29T09:11:27.751449Z"
    }
   },
   "outputs": [
    {
     "name": "stdout",
     "output_type": "stream",
     "text": [
      "(6334, 4) (6054, 5)\n"
     ]
    }
   ],
   "source": [
    "print(df_img.shape, df_study.shape)"
   ]
  },
  {
   "cell_type": "markdown",
   "metadata": {},
   "source": [
    "Take a look at the studies that contain more than one image."
   ]
  },
  {
   "cell_type": "code",
   "execution_count": 10,
   "metadata": {
    "execution": {
     "iopub.execute_input": "2021-06-29T09:11:27.959937Z",
     "iopub.status.busy": "2021-06-29T09:11:27.95969Z",
     "iopub.status.idle": "2021-06-29T09:11:27.99132Z",
     "shell.execute_reply": "2021-06-29T09:11:27.990426Z",
     "shell.execute_reply.started": "2021-06-29T09:11:27.959913Z"
    },
    "scrolled": true
   },
   "outputs": [
    {
     "data": {
      "text/html": [
       "<div>\n",
       "<style scoped>\n",
       "    .dataframe tbody tr th:only-of-type {\n",
       "        vertical-align: middle;\n",
       "    }\n",
       "\n",
       "    .dataframe tbody tr th {\n",
       "        vertical-align: top;\n",
       "    }\n",
       "\n",
       "    .dataframe thead th {\n",
       "        text-align: right;\n",
       "    }\n",
       "</style>\n",
       "<table border=\"1\" class=\"dataframe\">\n",
       "  <thead>\n",
       "    <tr style=\"text-align: right;\">\n",
       "      <th></th>\n",
       "      <th>id</th>\n",
       "      <th>boxes</th>\n",
       "      <th>label</th>\n",
       "      <th>StudyInstanceUID</th>\n",
       "    </tr>\n",
       "  </thead>\n",
       "  <tbody>\n",
       "    <tr>\n",
       "      <th>2862</th>\n",
       "      <td>74077a8e3b7c_image</td>\n",
       "      <td>[{'x': 2175.24285, 'y': 1123.72368, 'width': 4...</td>\n",
       "      <td>opacity 1 2175.24285 1123.72368 2607.50603 162...</td>\n",
       "      <td>00f9e183938e</td>\n",
       "    </tr>\n",
       "    <tr>\n",
       "      <th>2490</th>\n",
       "      <td>6534a837497d_image</td>\n",
       "      <td>NaN</td>\n",
       "      <td>none 1 0 0 1 1</td>\n",
       "      <td>00f9e183938e</td>\n",
       "    </tr>\n",
       "    <tr>\n",
       "      <th>2119</th>\n",
       "      <td>55e22c0c5de0_image</td>\n",
       "      <td>[{'x': 455.99999, 'y': 1480.00008, 'width': 26...</td>\n",
       "      <td>opacity 1 455.99999 1480.00008 722.39998 2437....</td>\n",
       "      <td>0142feaef82f</td>\n",
       "    </tr>\n",
       "    <tr>\n",
       "      <th>6061</th>\n",
       "      <td>f5451a98d684_image</td>\n",
       "      <td>NaN</td>\n",
       "      <td>none 1 0 0 1 1</td>\n",
       "      <td>0142feaef82f</td>\n",
       "    </tr>\n",
       "    <tr>\n",
       "      <th>3880</th>\n",
       "      <td>9e4824fcee2e_image</td>\n",
       "      <td>[{'x': 817.77961, 'y': 1075.34501, 'width': 64...</td>\n",
       "      <td>opacity 1 817.77961 1075.34501 1467.08961 2075...</td>\n",
       "      <td>0369e0385796</td>\n",
       "    </tr>\n",
       "    <tr>\n",
       "      <th>...</th>\n",
       "      <td>...</td>\n",
       "      <td>...</td>\n",
       "      <td>...</td>\n",
       "      <td>...</td>\n",
       "    </tr>\n",
       "    <tr>\n",
       "      <th>1600</th>\n",
       "      <td>4123a71d9796_image</td>\n",
       "      <td>[{'x': 889.45144, 'y': 282.39441, 'width': 825...</td>\n",
       "      <td>opacity 1 889.45144 282.39441 1714.51125 1585....</td>\n",
       "      <td>fc45007f145a</td>\n",
       "    </tr>\n",
       "    <tr>\n",
       "      <th>827</th>\n",
       "      <td>218bcf950372_image</td>\n",
       "      <td>NaN</td>\n",
       "      <td>none 1 0 0 1 1</td>\n",
       "      <td>fd92c6f2b2e6</td>\n",
       "    </tr>\n",
       "    <tr>\n",
       "      <th>5735</th>\n",
       "      <td>e6cc65d9de1d_image</td>\n",
       "      <td>NaN</td>\n",
       "      <td>none 1 0 0 1 1</td>\n",
       "      <td>fd92c6f2b2e6</td>\n",
       "    </tr>\n",
       "    <tr>\n",
       "      <th>3277</th>\n",
       "      <td>84ed5f7f71bf_image</td>\n",
       "      <td>[{'x': 1721.27651, 'y': 974.09667, 'width': 12...</td>\n",
       "      <td>opacity 1 1721.27651 974.09667 2999.21998 2681...</td>\n",
       "      <td>ffcb4630f46f</td>\n",
       "    </tr>\n",
       "    <tr>\n",
       "      <th>710</th>\n",
       "      <td>1c96d9b08487_image</td>\n",
       "      <td>NaN</td>\n",
       "      <td>none 1 0 0 1 1</td>\n",
       "      <td>ffcb4630f46f</td>\n",
       "    </tr>\n",
       "  </tbody>\n",
       "</table>\n",
       "<p>512 rows × 4 columns</p>\n",
       "</div>"
      ],
      "text/plain": [
       "                      id                                              boxes  \\\n",
       "2862  74077a8e3b7c_image  [{'x': 2175.24285, 'y': 1123.72368, 'width': 4...   \n",
       "2490  6534a837497d_image                                                NaN   \n",
       "2119  55e22c0c5de0_image  [{'x': 455.99999, 'y': 1480.00008, 'width': 26...   \n",
       "6061  f5451a98d684_image                                                NaN   \n",
       "3880  9e4824fcee2e_image  [{'x': 817.77961, 'y': 1075.34501, 'width': 64...   \n",
       "...                  ...                                                ...   \n",
       "1600  4123a71d9796_image  [{'x': 889.45144, 'y': 282.39441, 'width': 825...   \n",
       "827   218bcf950372_image                                                NaN   \n",
       "5735  e6cc65d9de1d_image                                                NaN   \n",
       "3277  84ed5f7f71bf_image  [{'x': 1721.27651, 'y': 974.09667, 'width': 12...   \n",
       "710   1c96d9b08487_image                                                NaN   \n",
       "\n",
       "                                                  label StudyInstanceUID  \n",
       "2862  opacity 1 2175.24285 1123.72368 2607.50603 162...     00f9e183938e  \n",
       "2490                                     none 1 0 0 1 1     00f9e183938e  \n",
       "2119  opacity 1 455.99999 1480.00008 722.39998 2437....     0142feaef82f  \n",
       "6061                                     none 1 0 0 1 1     0142feaef82f  \n",
       "3880  opacity 1 817.77961 1075.34501 1467.08961 2075...     0369e0385796  \n",
       "...                                                 ...              ...  \n",
       "1600  opacity 1 889.45144 282.39441 1714.51125 1585....     fc45007f145a  \n",
       "827                                      none 1 0 0 1 1     fd92c6f2b2e6  \n",
       "5735                                     none 1 0 0 1 1     fd92c6f2b2e6  \n",
       "3277  opacity 1 1721.27651 974.09667 2999.21998 2681...     ffcb4630f46f  \n",
       "710                                      none 1 0 0 1 1     ffcb4630f46f  \n",
       "\n",
       "[512 rows x 4 columns]"
      ]
     },
     "execution_count": 10,
     "metadata": {},
     "output_type": "execute_result"
    }
   ],
   "source": [
    "id_group = df_img.groupby(['StudyInstanceUID'])['id'].count().to_frame()\n",
    "id_group = id_group.rename(columns = {'id': 'number of ids'})\n",
    "UIDs_multiple_ids = id_group[id_group['number of ids'] > 1].index\n",
    "df_img[df_img['StudyInstanceUID'].isin(UIDs_multiple_ids)].sort_values('StudyInstanceUID')"
   ]
  },
  {
   "cell_type": "markdown",
   "metadata": {},
   "source": [
    "## Join both DataFrames"
   ]
  },
  {
   "cell_type": "code",
   "execution_count": 11,
   "metadata": {
    "execution": {
     "iopub.execute_input": "2021-06-29T09:23:25.256805Z",
     "iopub.status.busy": "2021-06-29T09:23:25.256461Z",
     "iopub.status.idle": "2021-06-29T09:23:25.268037Z",
     "shell.execute_reply": "2021-06-29T09:23:25.267255Z",
     "shell.execute_reply.started": "2021-06-29T09:23:25.256775Z"
    }
   },
   "outputs": [],
   "source": [
    "df = pd.merge(df_img, df_study, on = 'StudyInstanceUID')"
   ]
  },
  {
   "cell_type": "markdown",
   "metadata": {},
   "source": [
    "## Fill the NaN values with the expected \"No Box detected\" label"
   ]
  },
  {
   "cell_type": "code",
   "execution_count": 12,
   "metadata": {
    "execution": {
     "iopub.execute_input": "2021-06-29T09:23:25.839744Z",
     "iopub.status.busy": "2021-06-29T09:23:25.839418Z",
     "iopub.status.idle": "2021-06-29T09:23:25.852742Z",
     "shell.execute_reply": "2021-06-29T09:23:25.851927Z",
     "shell.execute_reply.started": "2021-06-29T09:23:25.839713Z"
    }
   },
   "outputs": [],
   "source": [
    "df.boxes.fillna(\"[{'x': 0, 'y': 0, 'width': 1, 'height': 1}]\", inplace = True)  ## Add formating for consistency"
   ]
  },
  {
   "cell_type": "markdown",
   "metadata": {},
   "source": [
    "## Format the Bounding Boxes as expected by the learner"
   ]
  },
  {
   "cell_type": "code",
   "execution_count": 13,
   "metadata": {
    "execution": {
     "iopub.execute_input": "2021-06-29T09:23:26.467671Z",
     "iopub.status.busy": "2021-06-29T09:23:26.467327Z",
     "iopub.status.idle": "2021-06-29T09:23:26.760464Z",
     "shell.execute_reply": "2021-06-29T09:23:26.759684Z",
     "shell.execute_reply.started": "2021-06-29T09:23:26.46762Z"
    }
   },
   "outputs": [],
   "source": [
    "df['boxes_list'] = df.boxes.str.split(r'},\\s*') ## Split (string) list of bounding boxes at }\n",
    "df['boxes_list'] = df['boxes_list'].apply(lambda x: [re.sub(r\"\\[|{|}|\\]|:|'|x|y|width|height|\\s\", '', y) for y in x])## Remove superfluous formating\n",
    "df['boxes_list'] = df['boxes_list'].apply(lambda x: [y.split(',') for y in x]) ## Split the values in each bounding box list\n",
    "df['boxes_list'] = df['boxes_list'].apply(lambda x: [list(map(float,y)) for y in x]) ## Cast bounding box values from string to float\n",
    "df['boxes_list'] = df['boxes_list'].apply(lambda x: [[y[0], y[1], y[0] + y[2], y[1] + y[3]] for y in x])             ## The BBoxBlock expects the bounding box in the format min_x, min_y, max_x, max_y (in contrast to min_x, min_y, width, height)\n",
    "β = lambda x: np.array([np.array(y) for y in x]) ## Exchange lists for nparrays\n",
    "df['boxes_list'] = df['boxes_list'].apply(lambda x: β(x))"
   ]
  },
  {
   "cell_type": "markdown",
   "metadata": {},
   "source": [
    "## Format the Bounding Box labels as expected by the learner"
   ]
  },
  {
   "cell_type": "code",
   "execution_count": 15,
   "metadata": {
    "execution": {
     "iopub.execute_input": "2021-06-29T09:23:31.485456Z",
     "iopub.status.busy": "2021-06-29T09:23:31.485141Z",
     "iopub.status.idle": "2021-06-29T09:23:31.584301Z",
     "shell.execute_reply": "2021-06-29T09:23:31.58356Z",
     "shell.execute_reply.started": "2021-06-29T09:23:31.485425Z"
    }
   },
   "outputs": [],
   "source": [
    "df['labels_list'] = df['label'].str.split(r'\\s')                                                                     ## \n",
    "df['labels_list'] = df['labels_list'].apply(lambda x: [y for y in x if not re.match('.*\\d+', y)])                    ## Keep every entry of the list, that doesnt contain any number\n",
    "df['labels_list'] = df['labels_list'].apply(lambda x: np.array(x))"
   ]
  },
  {
   "cell_type": "markdown",
   "metadata": {},
   "source": [
    "## Clean up"
   ]
  },
  {
   "cell_type": "code",
   "execution_count": 16,
   "metadata": {
    "execution": {
     "iopub.execute_input": "2021-06-29T09:23:31.730161Z",
     "iopub.status.busy": "2021-06-29T09:23:31.729898Z",
     "iopub.status.idle": "2021-06-29T09:23:31.73695Z",
     "shell.execute_reply": "2021-06-29T09:23:31.735858Z",
     "shell.execute_reply.started": "2021-06-29T09:23:31.730135Z"
    }
   },
   "outputs": [],
   "source": [
    "df.drop(['boxes', 'label'], axis = 1, inplace = True)\n",
    "df['id'] = df['id'].str.replace('_image', '')"
   ]
  },
  {
   "cell_type": "code",
   "execution_count": 23,
   "metadata": {
    "execution": {
     "iopub.execute_input": "2021-06-29T09:23:32.563273Z",
     "iopub.status.busy": "2021-06-29T09:23:32.563028Z",
     "iopub.status.idle": "2021-06-29T09:23:32.580228Z",
     "shell.execute_reply": "2021-06-29T09:23:32.579222Z",
     "shell.execute_reply.started": "2021-06-29T09:23:32.563249Z"
    },
    "scrolled": true
   },
   "outputs": [
    {
     "data": {
      "text/html": [
       "<div>\n",
       "<style scoped>\n",
       "    .dataframe tbody tr th:only-of-type {\n",
       "        vertical-align: middle;\n",
       "    }\n",
       "\n",
       "    .dataframe tbody tr th {\n",
       "        vertical-align: top;\n",
       "    }\n",
       "\n",
       "    .dataframe thead th {\n",
       "        text-align: right;\n",
       "    }\n",
       "</style>\n",
       "<table border=\"1\" class=\"dataframe\">\n",
       "  <thead>\n",
       "    <tr style=\"text-align: right;\">\n",
       "      <th></th>\n",
       "      <th>id</th>\n",
       "      <th>StudyInstanceUID</th>\n",
       "      <th>Negative for Pneumonia</th>\n",
       "      <th>Typical Appearance</th>\n",
       "      <th>Indeterminate Appearance</th>\n",
       "      <th>Atypical Appearance</th>\n",
       "      <th>boxes_list</th>\n",
       "      <th>labels_list</th>\n",
       "      <th>label</th>\n",
       "    </tr>\n",
       "  </thead>\n",
       "  <tbody>\n",
       "    <tr>\n",
       "      <th>6332</th>\n",
       "      <td>ffdc682f7680</td>\n",
       "      <td>a0cb0b96fb3d</td>\n",
       "      <td>0</td>\n",
       "      <td>1</td>\n",
       "      <td>0</td>\n",
       "      <td>0</td>\n",
       "      <td>[[2729.27083, 332.26044, 4225.52099, 2936.8437...</td>\n",
       "      <td>[Typical, Typical]</td>\n",
       "      <td>Typical</td>\n",
       "    </tr>\n",
       "    <tr>\n",
       "      <th>6333</th>\n",
       "      <td>ffe942c8655f</td>\n",
       "      <td>7d82d53204b8</td>\n",
       "      <td>0</td>\n",
       "      <td>1</td>\n",
       "      <td>0</td>\n",
       "      <td>0</td>\n",
       "      <td>[[208.86463, 91.53448, 659.8321, 719.58921], [...</td>\n",
       "      <td>[Typical, Typical]</td>\n",
       "      <td>Typical</td>\n",
       "    </tr>\n",
       "  </tbody>\n",
       "</table>\n",
       "</div>"
      ],
      "text/plain": [
       "                id StudyInstanceUID  Negative for Pneumonia  \\\n",
       "6332  ffdc682f7680     a0cb0b96fb3d                       0   \n",
       "6333  ffe942c8655f     7d82d53204b8                       0   \n",
       "\n",
       "      Typical Appearance  Indeterminate Appearance  Atypical Appearance  \\\n",
       "6332                   1                         0                    0   \n",
       "6333                   1                         0                    0   \n",
       "\n",
       "                                             boxes_list         labels_list  \\\n",
       "6332  [[2729.27083, 332.26044, 4225.52099, 2936.8437...  [Typical, Typical]   \n",
       "6333  [[208.86463, 91.53448, 659.8321, 719.58921], [...  [Typical, Typical]   \n",
       "\n",
       "        label  \n",
       "6332  Typical  \n",
       "6333  Typical  "
      ]
     },
     "execution_count": 23,
     "metadata": {},
     "output_type": "execute_result"
    }
   ],
   "source": [
    "df.tail(2)"
   ]
  },
  {
   "cell_type": "markdown",
   "metadata": {},
   "source": [
    "## Add a single classification label"
   ]
  },
  {
   "cell_type": "code",
   "execution_count": 19,
   "metadata": {},
   "outputs": [],
   "source": [
    "X = df[['Negative for Pneumonia', 'Typical Appearance', 'Indeterminate Appearance', 'Atypical Appearance']]\n",
    "df['label'] = pd.get_dummies(X).idxmax(1).str.split(' ').apply(lambda x: x[0])\n",
    "df['labels_list'] = df.apply(lambda x: np.ones((len(x['boxes_list'],)), dtype = object) * x['label'], axis = 1)"
   ]
  },
  {
   "cell_type": "code",
   "execution_count": 20,
   "metadata": {
    "scrolled": true
   },
   "outputs": [
    {
     "data": {
      "text/html": [
       "<div>\n",
       "<style scoped>\n",
       "    .dataframe tbody tr th:only-of-type {\n",
       "        vertical-align: middle;\n",
       "    }\n",
       "\n",
       "    .dataframe tbody tr th {\n",
       "        vertical-align: top;\n",
       "    }\n",
       "\n",
       "    .dataframe thead th {\n",
       "        text-align: right;\n",
       "    }\n",
       "</style>\n",
       "<table border=\"1\" class=\"dataframe\">\n",
       "  <thead>\n",
       "    <tr style=\"text-align: right;\">\n",
       "      <th></th>\n",
       "      <th>id</th>\n",
       "      <th>StudyInstanceUID</th>\n",
       "      <th>Negative for Pneumonia</th>\n",
       "      <th>Typical Appearance</th>\n",
       "      <th>Indeterminate Appearance</th>\n",
       "      <th>Atypical Appearance</th>\n",
       "      <th>boxes_list</th>\n",
       "      <th>labels_list</th>\n",
       "      <th>label</th>\n",
       "    </tr>\n",
       "  </thead>\n",
       "  <tbody>\n",
       "    <tr>\n",
       "      <th>0</th>\n",
       "      <td>000a312787f2</td>\n",
       "      <td>5776db0cec75</td>\n",
       "      <td>0</td>\n",
       "      <td>1</td>\n",
       "      <td>0</td>\n",
       "      <td>0</td>\n",
       "      <td>[[789.28836, 582.43035, 1815.94498, 2499.73327...</td>\n",
       "      <td>[Typical, Typical]</td>\n",
       "      <td>Typical</td>\n",
       "    </tr>\n",
       "    <tr>\n",
       "      <th>1</th>\n",
       "      <td>000c3a3f293f</td>\n",
       "      <td>ff0879eb20ed</td>\n",
       "      <td>1</td>\n",
       "      <td>0</td>\n",
       "      <td>0</td>\n",
       "      <td>0</td>\n",
       "      <td>[[0.0, 0.0, 1.0, 1.0]]</td>\n",
       "      <td>[Negative]</td>\n",
       "      <td>Negative</td>\n",
       "    </tr>\n",
       "  </tbody>\n",
       "</table>\n",
       "</div>"
      ],
      "text/plain": [
       "             id StudyInstanceUID  Negative for Pneumonia  Typical Appearance  \\\n",
       "0  000a312787f2     5776db0cec75                       0                   1   \n",
       "1  000c3a3f293f     ff0879eb20ed                       1                   0   \n",
       "\n",
       "   Indeterminate Appearance  Atypical Appearance  \\\n",
       "0                         0                    0   \n",
       "1                         0                    0   \n",
       "\n",
       "                                          boxes_list         labels_list  \\\n",
       "0  [[789.28836, 582.43035, 1815.94498, 2499.73327...  [Typical, Typical]   \n",
       "1                             [[0.0, 0.0, 1.0, 1.0]]          [Negative]   \n",
       "\n",
       "      label  \n",
       "0   Typical  \n",
       "1  Negative  "
      ]
     },
     "execution_count": 20,
     "metadata": {},
     "output_type": "execute_result"
    }
   ],
   "source": [
    "df.head(2)"
   ]
  },
  {
   "cell_type": "markdown",
   "metadata": {},
   "source": [
    "### Sanity checks:"
   ]
  },
  {
   "cell_type": "code",
   "execution_count": 21,
   "metadata": {
    "scrolled": false
   },
   "outputs": [],
   "source": [
    "## Every instance has exactly one of the labels: \"negative\", \"typical\", \"indeterminate\", \"atypical\"\n",
    "assert((df[['Negative for Pneumonia', 'Typical Appearance', 'Indeterminate Appearance', 'Atypical Appearance']].sum(axis = 1) != 1).sum() == 0)\n",
    "## For each instance, there are as many labels as there are bounding boxes\n",
    "assert(df.apply(lambda x: len(x['boxes_list']) != len(x['labels_list']), axis = 1 ).sum() == 0 )\n",
    "## The values in the boxes_list column are all lists (of bounding boxes)\n",
    "assert((df.boxes_list.apply(lambda x: type(x)) != np.ndarray).sum() == 0)\n",
    "## Each list has at least one entry (/ at least one bounding box)\n",
    "assert((df.boxes_list.apply(lambda x: len(x)) < 1).sum() == 0)\n",
    "## The entries of each list are also lists\n",
    "f = lambda x: sum([1 if type(y) != np.ndarray else 0 for y in x])\n",
    "assert(df.boxes_list.apply(lambda x: f(x)).sum() == 0)\n",
    "## Each entry, for each list, contains of 4 elements\n",
    "g = lambda x: sum([1 if len(y) != 4 else 0 for y in x])\n",
    "assert(df.boxes_list.apply(lambda x: g(x)).sum() == 0)\n",
    "## The bounding box values are floats\n",
    "h = lambda x: sum([1 if type(z) != np.float64 else 0 for y in x for z in y])\n",
    "assert(df.boxes_list.apply(lambda x: h(x)).sum() == 0)\n",
    "## The 'none' labeled instances all have:\n",
    "df_none = df[df.labels_list.apply(lambda x: ' '.join(x)).str.contains('none')]\n",
    "## exactly one bounding box\n",
    "assert(df_none['boxes_list'].apply(lambda x: len(x) != 1).sum() == 0)\n",
    "## the exact bounding box [0., 0., 1., 1.]\n",
    "α = lambda x: int(x[0] != 0. or x[1] != 0. or x[2] != 1. or x[3] != 1.)\n",
    "assert(df_none['boxes_list'].apply(lambda x: α(x[0])).sum() == 0)"
   ]
  },
  {
   "cell_type": "markdown",
   "metadata": {},
   "source": [
    "## Save dataframe to pickle (.csv loses the dtype of the boxes/labels_lists)"
   ]
  },
  {
   "cell_type": "code",
   "execution_count": 22,
   "metadata": {},
   "outputs": [],
   "source": [
    "df.to_pickle(path / 'train_clean.pkl')"
   ]
  }
 ],
 "metadata": {
  "kernelspec": {
   "display_name": "fastai",
   "language": "python",
   "name": "fastai"
  },
  "language_info": {
   "codemirror_mode": {
    "name": "ipython",
    "version": 3
   },
   "file_extension": ".py",
   "mimetype": "text/x-python",
   "name": "python",
   "nbconvert_exporter": "python",
   "pygments_lexer": "ipython3",
   "version": "3.8.8"
  }
 },
 "nbformat": 4,
 "nbformat_minor": 4
}
