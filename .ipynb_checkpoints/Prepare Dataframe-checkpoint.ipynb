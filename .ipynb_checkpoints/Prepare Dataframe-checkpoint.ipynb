{
 "cells": [
  {
   "cell_type": "code",
   "execution_count": null,
   "metadata": {
    "execution": {
     "iopub.execute_input": "2021-06-29T09:08:41.809955Z",
     "iopub.status.busy": "2021-06-29T09:08:41.809601Z",
     "iopub.status.idle": "2021-06-29T09:08:41.81876Z",
     "shell.execute_reply": "2021-06-29T09:08:41.817376Z",
     "shell.execute_reply.started": "2021-06-29T09:08:41.809874Z"
    }
   },
   "outputs": [],
   "source": [
    "import numpy as np\n",
    "import pandas as pd\n",
    "import os"
   ]
  },
  {
   "cell_type": "code",
   "execution_count": null,
   "metadata": {
    "execution": {
     "iopub.execute_input": "2021-06-29T09:08:41.822699Z",
     "iopub.status.busy": "2021-06-29T09:08:41.822135Z",
     "iopub.status.idle": "2021-06-29T09:08:50.838948Z",
     "shell.execute_reply": "2021-06-29T09:08:50.837991Z",
     "shell.execute_reply.started": "2021-06-29T09:08:41.822659Z"
    }
   },
   "outputs": [],
   "source": [
    "!pip install glob2"
   ]
  },
  {
   "cell_type": "code",
   "execution_count": null,
   "metadata": {
    "execution": {
     "iopub.execute_input": "2021-06-29T09:08:50.842499Z",
     "iopub.status.busy": "2021-06-29T09:08:50.842238Z",
     "iopub.status.idle": "2021-06-29T09:08:58.818003Z",
     "shell.execute_reply": "2021-06-29T09:08:58.817069Z",
     "shell.execute_reply.started": "2021-06-29T09:08:50.842471Z"
    }
   },
   "outputs": [],
   "source": [
    "!pip install pydicom kornia opencv-python scikit-image nbdev"
   ]
  },
  {
   "cell_type": "code",
   "execution_count": null,
   "metadata": {
    "execution": {
     "iopub.execute_input": "2021-06-29T09:08:58.820268Z",
     "iopub.status.busy": "2021-06-29T09:08:58.819934Z",
     "iopub.status.idle": "2021-06-29T09:10:04.791857Z",
     "shell.execute_reply": "2021-06-29T09:10:04.790913Z",
     "shell.execute_reply.started": "2021-06-29T09:08:58.820231Z"
    }
   },
   "outputs": [],
   "source": [
    "!conda install -c conda-forge gdcm -y"
   ]
  },
  {
   "cell_type": "code",
   "execution_count": null,
   "metadata": {
    "execution": {
     "iopub.execute_input": "2021-06-29T09:10:04.794829Z",
     "iopub.status.busy": "2021-06-29T09:10:04.794479Z",
     "iopub.status.idle": "2021-06-29T09:10:13.646348Z",
     "shell.execute_reply": "2021-06-29T09:10:13.645453Z",
     "shell.execute_reply.started": "2021-06-29T09:10:04.794786Z"
    }
   },
   "outputs": [],
   "source": [
    "!git clone https://github.com/asvcode/fmi.git"
   ]
  },
  {
   "cell_type": "code",
   "execution_count": 1,
   "metadata": {
    "execution": {
     "iopub.execute_input": "2021-06-29T09:10:53.277072Z",
     "iopub.status.busy": "2021-06-29T09:10:53.276712Z",
     "iopub.status.idle": "2021-06-29T09:10:56.509923Z",
     "shell.execute_reply": "2021-06-29T09:10:56.50902Z",
     "shell.execute_reply.started": "2021-06-29T09:10:53.277037Z"
    }
   },
   "outputs": [
    {
     "name": "stderr",
     "output_type": "stream",
     "text": [
      "/home/karrrrrrrr/miniconda3/envs/fastmed/lib/python3.9/site-packages/kornia/augmentation/augmentation.py:1872: DeprecationWarning: GaussianBlur is no longer maintained and will be removed from the future versions. Please use RandomGaussianBlur instead.\n",
      "  warnings.warn(\n"
     ]
    },
    {
     "ename": "ModuleNotFoundError",
     "evalue": "No module named 'gdcm'",
     "output_type": "error",
     "traceback": [
      "\u001b[0;31m---------------------------------------------------------------------------\u001b[0m",
      "\u001b[0;31mModuleNotFoundError\u001b[0m                       Traceback (most recent call last)",
      "\u001b[0;32m<ipython-input-1-6c4692999da1>\u001b[0m in \u001b[0;36m<module>\u001b[0;34m\u001b[0m\n\u001b[1;32m      6\u001b[0m \u001b[0;32mimport\u001b[0m \u001b[0mre\u001b[0m\u001b[0;34m\u001b[0m\u001b[0;34m\u001b[0m\u001b[0m\n\u001b[1;32m      7\u001b[0m \u001b[0;32mimport\u001b[0m \u001b[0mpydicom\u001b[0m\u001b[0;34m\u001b[0m\u001b[0;34m\u001b[0m\u001b[0m\n\u001b[0;32m----> 8\u001b[0;31m \u001b[0;32mimport\u001b[0m \u001b[0mgdcm\u001b[0m\u001b[0;34m\u001b[0m\u001b[0;34m\u001b[0m\u001b[0m\n\u001b[0m",
      "\u001b[0;31mModuleNotFoundError\u001b[0m: No module named 'gdcm'"
     ]
    }
   ],
   "source": [
    "#from fastai.basics import *\n",
    "from fastai.callback.all import *\n",
    "from fastai.vision.all import *\n",
    "from fastai.medical.imaging import *\n",
    "\n",
    "import re\n",
    "import pydicom\n",
    "import gdcm"
   ]
  },
  {
   "cell_type": "code",
   "execution_count": null,
   "metadata": {
    "execution": {
     "iopub.execute_input": "2021-06-29T09:11:19.494754Z",
     "iopub.status.busy": "2021-06-29T09:11:19.494403Z",
     "iopub.status.idle": "2021-06-29T09:11:19.60398Z",
     "shell.execute_reply": "2021-06-29T09:11:19.603168Z",
     "shell.execute_reply.started": "2021-06-29T09:11:19.494721Z"
    }
   },
   "outputs": [],
   "source": [
    "from fmi.fmi.explore import *\n",
    "from fmi.fmi.preprocessing import *\n",
    "from fmi.fmi.pipeline import *\n",
    "from fmi.fmi.retinanet import *"
   ]
  },
  {
   "cell_type": "code",
   "execution_count": null,
   "metadata": {
    "execution": {
     "iopub.execute_input": "2021-06-29T09:11:25.914732Z",
     "iopub.status.busy": "2021-06-29T09:11:25.914288Z",
     "iopub.status.idle": "2021-06-29T09:11:25.973184Z",
     "shell.execute_reply": "2021-06-29T09:11:25.972318Z",
     "shell.execute_reply.started": "2021-06-29T09:11:25.914686Z"
    }
   },
   "outputs": [],
   "source": [
    "path = Path(\"../input/siim-covid19-detection\")\n",
    "\n",
    "df_img = pd.read_csv(path / 'train_image_level.csv')\n",
    "df_study = pd.read_csv(path / 'train_study_level.csv')"
   ]
  },
  {
   "cell_type": "code",
   "execution_count": null,
   "metadata": {
    "execution": {
     "iopub.execute_input": "2021-06-29T09:11:26.225991Z",
     "iopub.status.busy": "2021-06-29T09:11:26.225679Z",
     "iopub.status.idle": "2021-06-29T09:11:26.251293Z",
     "shell.execute_reply": "2021-06-29T09:11:26.250155Z",
     "shell.execute_reply.started": "2021-06-29T09:11:26.225962Z"
    }
   },
   "outputs": [],
   "source": [
    "df_img.head(2)"
   ]
  },
  {
   "cell_type": "code",
   "execution_count": null,
   "metadata": {
    "execution": {
     "iopub.execute_input": "2021-06-29T09:11:26.722232Z",
     "iopub.status.busy": "2021-06-29T09:11:26.721926Z",
     "iopub.status.idle": "2021-06-29T09:11:26.731792Z",
     "shell.execute_reply": "2021-06-29T09:11:26.730787Z",
     "shell.execute_reply.started": "2021-06-29T09:11:26.722204Z"
    }
   },
   "outputs": [],
   "source": [
    "df_study.head(2)"
   ]
  },
  {
   "cell_type": "code",
   "execution_count": null,
   "metadata": {
    "execution": {
     "iopub.execute_input": "2021-06-29T09:11:27.133379Z",
     "iopub.status.busy": "2021-06-29T09:11:27.13309Z",
     "iopub.status.idle": "2021-06-29T09:11:27.146576Z",
     "shell.execute_reply": "2021-06-29T09:11:27.145708Z",
     "shell.execute_reply.started": "2021-06-29T09:11:27.13335Z"
    }
   },
   "outputs": [],
   "source": [
    "df_study['id'] = df_study.id.str.replace('_study', '')\n",
    "df_study.rename(columns = {'id': 'StudyInstanceUID'}, inplace = True)"
   ]
  },
  {
   "cell_type": "code",
   "execution_count": null,
   "metadata": {
    "execution": {
     "iopub.execute_input": "2021-06-29T09:11:27.484432Z",
     "iopub.status.busy": "2021-06-29T09:11:27.484182Z",
     "iopub.status.idle": "2021-06-29T09:11:27.495253Z",
     "shell.execute_reply": "2021-06-29T09:11:27.494252Z",
     "shell.execute_reply.started": "2021-06-29T09:11:27.484407Z"
    }
   },
   "outputs": [],
   "source": [
    "study_ids = df_img['StudyInstanceUID'].unique()\n",
    "img_ids = df_study['StudyInstanceUID'].unique()\n",
    "\n",
    "set(study_ids) == set(img_ids), df_img.shape[0] == df_study.shape[0]"
   ]
  },
  {
   "cell_type": "code",
   "execution_count": null,
   "metadata": {
    "execution": {
     "iopub.execute_input": "2021-06-29T09:11:27.751474Z",
     "iopub.status.busy": "2021-06-29T09:11:27.7512Z",
     "iopub.status.idle": "2021-06-29T09:11:27.757829Z",
     "shell.execute_reply": "2021-06-29T09:11:27.755925Z",
     "shell.execute_reply.started": "2021-06-29T09:11:27.751449Z"
    }
   },
   "outputs": [],
   "source": [
    "print(df_img.shape, df_study.shape)"
   ]
  },
  {
   "cell_type": "code",
   "execution_count": null,
   "metadata": {
    "execution": {
     "iopub.execute_input": "2021-06-29T09:11:27.959937Z",
     "iopub.status.busy": "2021-06-29T09:11:27.95969Z",
     "iopub.status.idle": "2021-06-29T09:11:27.99132Z",
     "shell.execute_reply": "2021-06-29T09:11:27.990426Z",
     "shell.execute_reply.started": "2021-06-29T09:11:27.959913Z"
    }
   },
   "outputs": [],
   "source": [
    "id_group = df_img.groupby(['StudyInstanceUID'])['id'].count().to_frame()\n",
    "id_group = id_group.rename(columns = {'id': 'number of ids'})\n",
    "UIDs_multiple_ids = id_group[id_group['number of ids'] > 1].index\n",
    "df_img[df_img['StudyInstanceUID'].isin(UIDs_multiple_ids)].sort_values('StudyInstanceUID')"
   ]
  },
  {
   "cell_type": "code",
   "execution_count": null,
   "metadata": {
    "execution": {
     "iopub.execute_input": "2021-06-29T09:23:25.256805Z",
     "iopub.status.busy": "2021-06-29T09:23:25.256461Z",
     "iopub.status.idle": "2021-06-29T09:23:25.268037Z",
     "shell.execute_reply": "2021-06-29T09:23:25.267255Z",
     "shell.execute_reply.started": "2021-06-29T09:23:25.256775Z"
    }
   },
   "outputs": [],
   "source": [
    "df = pd.merge(df_img, df_study, on = 'StudyInstanceUID')"
   ]
  },
  {
   "cell_type": "code",
   "execution_count": null,
   "metadata": {
    "execution": {
     "iopub.execute_input": "2021-06-29T09:23:25.546913Z",
     "iopub.status.busy": "2021-06-29T09:23:25.546571Z",
     "iopub.status.idle": "2021-06-29T09:23:25.550266Z",
     "shell.execute_reply": "2021-06-29T09:23:25.549441Z",
     "shell.execute_reply.started": "2021-06-29T09:23:25.546884Z"
    }
   },
   "outputs": [],
   "source": [
    "#img_counts = df.groupby(['StudyInstanceUID'])['id'].nunique().to_frame()\n",
    "#img_counts.columns = ['No. images']\n",
    "#\n",
    "#img_counts.sort_values(by = 'No. images', ascending = False)"
   ]
  },
  {
   "cell_type": "code",
   "execution_count": null,
   "metadata": {
    "execution": {
     "iopub.execute_input": "2021-06-29T09:23:25.839744Z",
     "iopub.status.busy": "2021-06-29T09:23:25.839418Z",
     "iopub.status.idle": "2021-06-29T09:23:25.852742Z",
     "shell.execute_reply": "2021-06-29T09:23:25.851927Z",
     "shell.execute_reply.started": "2021-06-29T09:23:25.839713Z"
    }
   },
   "outputs": [],
   "source": [
    "df.boxes.fillna(\"[{'x': 0, 'y': 0, 'width': 1, 'height': 1}]\", inplace = True)                                       ## Add formating for consistancy\n",
    "df['boxes_list'] = df.boxes.str.split(r'},\\s*')                                                                      ## Split (string) list of bounding boxes at }"
   ]
  },
  {
   "cell_type": "code",
   "execution_count": null,
   "metadata": {
    "execution": {
     "iopub.execute_input": "2021-06-29T09:23:26.467671Z",
     "iopub.status.busy": "2021-06-29T09:23:26.467327Z",
     "iopub.status.idle": "2021-06-29T09:23:26.760464Z",
     "shell.execute_reply": "2021-06-29T09:23:26.759684Z",
     "shell.execute_reply.started": "2021-06-29T09:23:26.46762Z"
    }
   },
   "outputs": [],
   "source": [
    "df['boxes_list'] = df['boxes_list'].apply(lambda x: [re.sub(r\"\\[|{|}|\\]|:|'|x|y|width|height|\\s\", '', y) for y in x])## Remove superfluous formating\n",
    "df['boxes_list'] = df['boxes_list'].apply(lambda x: [y.split(',') for y in x])                                       ## Split the values in each bounding box list\n",
    "df['boxes_list'] = df['boxes_list'].apply(lambda x: [list(map(float,y)) for y in x])                                 ## Cast bounding box values from string to float\n",
    "df['boxes_list'] = df['boxes_list'].apply(lambda x: [[y[0], y[1], y[0] + y[2], y[1] + y[3]] for y in x])             ## The BBoxBlock expects the bounding box in the format min_x, min_y, max_x, max_y (in contrast to min_x, min_y, width, height)"
   ]
  },
  {
   "cell_type": "code",
   "execution_count": null,
   "metadata": {
    "execution": {
     "iopub.execute_input": "2021-06-29T09:23:31.485456Z",
     "iopub.status.busy": "2021-06-29T09:23:31.485141Z",
     "iopub.status.idle": "2021-06-29T09:23:31.584301Z",
     "shell.execute_reply": "2021-06-29T09:23:31.58356Z",
     "shell.execute_reply.started": "2021-06-29T09:23:31.485425Z"
    }
   },
   "outputs": [],
   "source": [
    "df['labels_list'] = df['label'].str.split(r'\\s')                                                                     ## \n",
    "df['labels_list'] = df['labels_list'].apply(lambda x: [y for y in x if not re.match('.*\\d+', y)])                    ## Keep every entry of the list, that doesnt contain any number"
   ]
  },
  {
   "cell_type": "code",
   "execution_count": null,
   "metadata": {
    "execution": {
     "iopub.execute_input": "2021-06-29T09:23:31.730161Z",
     "iopub.status.busy": "2021-06-29T09:23:31.729898Z",
     "iopub.status.idle": "2021-06-29T09:23:31.73695Z",
     "shell.execute_reply": "2021-06-29T09:23:31.735858Z",
     "shell.execute_reply.started": "2021-06-29T09:23:31.730135Z"
    }
   },
   "outputs": [],
   "source": [
    "df.drop(['boxes', 'label'], axis = 1, inplace = True)"
   ]
  },
  {
   "cell_type": "code",
   "execution_count": null,
   "metadata": {
    "execution": {
     "iopub.execute_input": "2021-06-29T09:23:32.010909Z",
     "iopub.status.busy": "2021-06-29T09:23:32.01059Z",
     "iopub.status.idle": "2021-06-29T09:23:32.103425Z",
     "shell.execute_reply": "2021-06-29T09:23:32.102686Z",
     "shell.execute_reply.started": "2021-06-29T09:23:32.010881Z"
    }
   },
   "outputs": [],
   "source": [
    "## Sanity check\n",
    "assert(df.apply(lambda x: len(x['boxes_list']) != len(x['labels_list']), axis = 1 ).sum() == 0 )"
   ]
  },
  {
   "cell_type": "code",
   "execution_count": null,
   "metadata": {
    "execution": {
     "iopub.execute_input": "2021-06-29T09:23:32.272191Z",
     "iopub.status.busy": "2021-06-29T09:23:32.271943Z",
     "iopub.status.idle": "2021-06-29T09:23:32.283912Z",
     "shell.execute_reply": "2021-06-29T09:23:32.28311Z",
     "shell.execute_reply.started": "2021-06-29T09:23:32.272166Z"
    }
   },
   "outputs": [],
   "source": [
    "df['id'] = df['id'].str.replace('_image', '.dcm')"
   ]
  },
  {
   "cell_type": "code",
   "execution_count": null,
   "metadata": {
    "execution": {
     "iopub.execute_input": "2021-06-29T09:23:32.563273Z",
     "iopub.status.busy": "2021-06-29T09:23:32.563028Z",
     "iopub.status.idle": "2021-06-29T09:23:32.580228Z",
     "shell.execute_reply": "2021-06-29T09:23:32.579222Z",
     "shell.execute_reply.started": "2021-06-29T09:23:32.563249Z"
    }
   },
   "outputs": [],
   "source": [
    "df.head()"
   ]
  },
  {
   "cell_type": "code",
   "execution_count": null,
   "metadata": {
    "execution": {
     "iopub.execute_input": "2021-06-29T09:23:32.927984Z",
     "iopub.status.busy": "2021-06-29T09:23:32.927692Z",
     "iopub.status.idle": "2021-06-29T09:23:32.932512Z",
     "shell.execute_reply": "2021-06-29T09:23:32.931632Z",
     "shell.execute_reply.started": "2021-06-29T09:23:32.927959Z"
    }
   },
   "outputs": [],
   "source": [
    "def get_bbox(fn):\n",
    "    return df.loc[df['id'] == fn.name, 'boxes_list'].values[0]\n",
    "    \n",
    "def get_bbox_label(fn):\n",
    "    return df.loc[df['id'] == fn.name, 'labels_list'].values[0]"
   ]
  },
  {
   "cell_type": "code",
   "execution_count": null,
   "metadata": {
    "execution": {
     "iopub.execute_input": "2021-06-29T09:23:33.414958Z",
     "iopub.status.busy": "2021-06-29T09:23:33.414592Z",
     "iopub.status.idle": "2021-06-29T09:23:33.421677Z",
     "shell.execute_reply": "2021-06-29T09:23:33.420617Z",
     "shell.execute_reply.started": "2021-06-29T09:23:33.414929Z"
    }
   },
   "outputs": [],
   "source": [
    "class PILDicom(PILBase):\n",
    "    _open_args,_tensor_cls,_show_args = {},TensorDicom,TensorDicom._show_args\n",
    "    @classmethod\n",
    "    def create(cls, fn:(Path,str,bytes), mode='RGB')->None:\n",
    "        \"Open a `DICOM file` from path `fn` or bytes `fn` and load it as a `PIL Image`\"\n",
    "        if isinstance(fn,bytes): im = Image.fromarray(pydicom.dcmread(pydicom.filebase.DicomBytesIO(fn)).pixel_array)\n",
    "        if isinstance(fn,(Path,str)): im = pydicom.dcmread(fn).pixel_array\n",
    "        im = (im / np.max(im)) * 255\n",
    "        #im = (im.windowed(w=40, l=80))*255\n",
    "        im = Image.fromarray(im.astype(np.uint8))\n",
    "        #im = Image.fromarray(im)\n",
    "        im.load()\n",
    "        im = im._new(im.im)\n",
    "        return cls(im.convert(mode) if mode else im)"
   ]
  },
  {
   "cell_type": "code",
   "execution_count": null,
   "metadata": {
    "execution": {
     "iopub.execute_input": "2021-06-29T09:56:24.600585Z",
     "iopub.status.busy": "2021-06-29T09:56:24.600252Z",
     "iopub.status.idle": "2021-06-29T09:56:24.607902Z",
     "shell.execute_reply": "2021-06-29T09:56:24.606977Z",
     "shell.execute_reply.started": "2021-06-29T09:56:24.600552Z"
    }
   },
   "outputs": [],
   "source": [
    "db = DataBlock(\n",
    "    blocks = (ImageBlock(cls=PILDicom), BBoxBlock, BBoxLblBlock),\n",
    "    #blocks = (ImageBlock(cls=DicomView), BBoxBlock, BBoxLblBlock),\n",
    "    get_items = get_dicom_files,\n",
    "    splitter = RandomSplitter(),\n",
    "    get_y = [lambda x: get_bbox(x), lambda x: get_bbox_label(x)],\n",
    "    item_tfms = Resize(224),\n",
    "    n_inp = 1\n",
    ")"
   ]
  },
  {
   "cell_type": "code",
   "execution_count": null,
   "metadata": {
    "execution": {
     "iopub.execute_input": "2021-06-29T09:56:30.113936Z",
     "iopub.status.busy": "2021-06-29T09:56:30.113579Z",
     "iopub.status.idle": "2021-06-29T09:56:52.91266Z",
     "shell.execute_reply": "2021-06-29T09:56:52.911741Z",
     "shell.execute_reply.started": "2021-06-29T09:56:30.113905Z"
    }
   },
   "outputs": [],
   "source": [
    "dls = db.dataloaders(path / 'train', verbose =  True, bs = 32)"
   ]
  },
  {
   "cell_type": "code",
   "execution_count": null,
   "metadata": {
    "execution": {
     "iopub.execute_input": "2021-06-29T09:46:36.859448Z",
     "iopub.status.busy": "2021-06-29T09:46:36.859123Z",
     "iopub.status.idle": "2021-06-29T09:46:58.062279Z",
     "shell.execute_reply": "2021-06-29T09:46:58.061272Z",
     "shell.execute_reply.started": "2021-06-29T09:46:36.859412Z"
    }
   },
   "outputs": [],
   "source": [
    "dls.show_batch()"
   ]
  },
  {
   "cell_type": "markdown",
   "metadata": {},
   "source": [
    "---"
   ]
  },
  {
   "cell_type": "code",
   "execution_count": null,
   "metadata": {
    "execution": {
     "iopub.execute_input": "2021-06-29T09:35:08.40946Z",
     "iopub.status.busy": "2021-06-29T09:35:08.409119Z",
     "iopub.status.idle": "2021-06-29T09:35:09.089561Z",
     "shell.execute_reply": "2021-06-29T09:35:09.088766Z",
     "shell.execute_reply.started": "2021-06-29T09:35:08.409429Z"
    }
   },
   "outputs": [],
   "source": [
    "dls.show_batch(b = b)"
   ]
  },
  {
   "cell_type": "code",
   "execution_count": null,
   "metadata": {
    "execution": {
     "iopub.execute_input": "2021-06-29T09:47:48.839033Z",
     "iopub.status.busy": "2021-06-29T09:47:48.838715Z",
     "iopub.status.idle": "2021-06-29T09:47:48.844685Z",
     "shell.execute_reply": "2021-06-29T09:47:48.843529Z",
     "shell.execute_reply.started": "2021-06-29T09:47:48.839003Z"
    }
   },
   "outputs": [],
   "source": [
    "get_c(dls)"
   ]
  },
  {
   "cell_type": "markdown",
   "metadata": {},
   "source": [
    "# Build Model"
   ]
  },
  {
   "cell_type": "code",
   "execution_count": null,
   "metadata": {
    "execution": {
     "iopub.execute_input": "2021-06-29T09:59:41.212901Z",
     "iopub.status.busy": "2021-06-29T09:59:41.212506Z",
     "iopub.status.idle": "2021-06-29T09:59:42.011299Z",
     "shell.execute_reply": "2021-06-29T09:59:42.010464Z",
     "shell.execute_reply.started": "2021-06-29T09:59:41.212867Z"
    }
   },
   "outputs": [],
   "source": [
    "encoder = create_body(models.resnet34, True, -2)\n",
    "arch = RetinaNet(encoder, get_c(dls), final_bias = -4)"
   ]
  },
  {
   "cell_type": "code",
   "execution_count": null,
   "metadata": {
    "execution": {
     "iopub.execute_input": "2021-06-29T09:59:44.1711Z",
     "iopub.status.busy": "2021-06-29T09:59:44.170776Z",
     "iopub.status.idle": "2021-06-29T09:59:44.175672Z",
     "shell.execute_reply": "2021-06-29T09:59:44.174742Z",
     "shell.execute_reply.started": "2021-06-29T09:59:44.171072Z"
    }
   },
   "outputs": [],
   "source": [
    "aspect_ratios = [0.5, 1, 2]\n",
    "scales = [2**0, 2**(1/3), 2**(2/3)]\n",
    "\n",
    "crit = RetinaNetFocalLoss(scales=scales, ratios=aspect_ratios)"
   ]
  },
  {
   "cell_type": "code",
   "execution_count": null,
   "metadata": {
    "execution": {
     "iopub.execute_input": "2021-06-29T09:59:45.122343Z",
     "iopub.status.busy": "2021-06-29T09:59:45.121936Z",
     "iopub.status.idle": "2021-06-29T09:59:45.131007Z",
     "shell.execute_reply": "2021-06-29T09:59:45.130128Z",
     "shell.execute_reply.started": "2021-06-29T09:59:45.122307Z"
    }
   },
   "outputs": [],
   "source": [
    "def _retinanet_split(m): \n",
    "    return L(m.encoder,nn.Sequential(m.c5top6, m.p6top7, m.merges, m.smoothers, m.classifier, m.box_regressor)).map(params)"
   ]
  },
  {
   "cell_type": "code",
   "execution_count": null,
   "metadata": {
    "execution": {
     "iopub.execute_input": "2021-06-29T09:59:46.052127Z",
     "iopub.status.busy": "2021-06-29T09:59:46.051808Z",
     "iopub.status.idle": "2021-06-29T09:59:46.058214Z",
     "shell.execute_reply": "2021-06-29T09:59:46.057133Z",
     "shell.execute_reply.started": "2021-06-29T09:59:46.052096Z"
    }
   },
   "outputs": [],
   "source": [
    "learn = Learner(\n",
    "    dls, \n",
    "    arch, \n",
    "    loss_func=crit, \n",
    "    splitter=_retinanet_split\n",
    ")"
   ]
  },
  {
   "cell_type": "code",
   "execution_count": null,
   "metadata": {
    "execution": {
     "iopub.execute_input": "2021-06-29T09:59:47.063577Z",
     "iopub.status.busy": "2021-06-29T09:59:47.063262Z",
     "iopub.status.idle": "2021-06-29T09:59:47.08429Z",
     "shell.execute_reply": "2021-06-29T09:59:47.083455Z",
     "shell.execute_reply.started": "2021-06-29T09:59:47.063547Z"
    }
   },
   "outputs": [],
   "source": [
    "learn.freeze()"
   ]
  },
  {
   "cell_type": "code",
   "execution_count": null,
   "metadata": {
    "execution": {
     "iopub.execute_input": "2021-06-29T09:59:48.021066Z",
     "iopub.status.busy": "2021-06-29T09:59:48.020651Z",
     "iopub.status.idle": "2021-06-29T10:00:05.242172Z",
     "shell.execute_reply": "2021-06-29T10:00:05.238205Z",
     "shell.execute_reply.started": "2021-06-29T09:59:48.021025Z"
    }
   },
   "outputs": [],
   "source": [
    "learn.lr_find()"
   ]
  },
  {
   "cell_type": "code",
   "execution_count": null,
   "metadata": {
    "execution": {
     "iopub.execute_input": "2021-06-29T10:00:23.721952Z",
     "iopub.status.busy": "2021-06-29T10:00:23.721595Z",
     "iopub.status.idle": "2021-06-29T10:00:42.55732Z",
     "shell.execute_reply": "2021-06-29T10:00:42.556467Z",
     "shell.execute_reply.started": "2021-06-29T10:00:23.721921Z"
    }
   },
   "outputs": [],
   "source": [
    "%debug"
   ]
  },
  {
   "cell_type": "code",
   "execution_count": null,
   "metadata": {},
   "outputs": [],
   "source": []
  }
 ],
 "metadata": {
  "kernelspec": {
   "display_name": "fastmed",
   "language": "python",
   "name": "fastmed"
  },
  "language_info": {
   "codemirror_mode": {
    "name": "ipython",
    "version": 3
   },
   "file_extension": ".py",
   "mimetype": "text/x-python",
   "name": "python",
   "nbconvert_exporter": "python",
   "pygments_lexer": "ipython3",
   "version": "3.9.5"
  }
 },
 "nbformat": 4,
 "nbformat_minor": 4
}
